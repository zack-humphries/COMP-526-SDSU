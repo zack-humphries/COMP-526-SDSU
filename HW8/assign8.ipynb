{
 "cells": [
  {
   "cell_type": "code",
   "execution_count": 125,
   "metadata": {},
   "outputs": [],
   "source": [
    "# Zachary Humphries\n",
    "# COMP 526\n",
    "# 12/12/2022\n",
    "# HW8 + Bonus\n",
    "\n",
    "import numpy as np\n",
    "from scipy.integrate import odeint\n",
    "import matplotlib.pyplot as plt\n",
    "import time\n",
    "import math"
   ]
  },
  {
   "cell_type": "code",
   "execution_count": 126,
   "metadata": {},
   "outputs": [],
   "source": [
    "def model(y,t):\n",
    "    dydt = np.cos(t)\n",
    "    return dydt"
   ]
  },
  {
   "cell_type": "code",
   "execution_count": 127,
   "metadata": {},
   "outputs": [],
   "source": [
    "y0 = 0\n",
    "\n",
    "t0 = 0\n",
    "tf = 3*np.pi/2\n",
    "\n",
    "h1 = 10**(-4)\n",
    "\n",
    "num = int((tf-t0)/h1)\n",
    "\n",
    "t = np.linspace(0, tf, num)\n",
    "\n",
    "tic = time.perf_counter()\n",
    "[y, output] = odeint(model,y0,t, h0 = 10**(-7), rtol = 10**(-4), atol = 10**(-7), full_output = True)\n",
    "toc = time.perf_counter()"
   ]
  },
  {
   "cell_type": "code",
   "execution_count": 130,
   "metadata": {},
   "outputs": [],
   "source": [
    "fig = plt.figure()\n",
    "plt.plot(t,y, 'bo')\n",
    "plt.xlabel('time')\n",
    "plt.ylabel('y(t)')\n",
    "plt.close(fig)\n",
    "fig.savefig('assign8_result.png')\n",
    "\n",
    "fig1 = plt.figure()\n",
    "plt.plot(t,np.sin(t), 'r')\n",
    "plt.xlabel('time')\n",
    "plt.ylabel('y(t)')\n",
    "plt.close(fig1)\n",
    "fig.savefig('assign8_actual.png')\n"
   ]
  },
  {
   "cell_type": "code",
   "execution_count": 90,
   "metadata": {},
   "outputs": [
    {
     "name": "stdout",
     "output_type": "stream",
     "text": [
      "4.584889709722384\n",
      "Solver  | rtol    | atol    | h0      | mescd   | scd     | steps   | feval   | nJac    | CPU     | ------------------------------------------------------------------------------------------------\n",
      "odeint  | 0.0001  | 1e-07   | 1e-07   | 0.58488 | 4.58444 | 47122   | 2435158 | 0       | 0.03232 | "
     ]
    }
   ],
   "source": [
    "d = {'Solver': ['odeint'], 'rtol': [10**(-4)], 'atol': [10**(-7)], 'h0': [10**(-7)], \\\n",
    "     'mescd': [str(round(-1*math.log10(abs(y[-1]-np.sin(tf))/((10**(-7))+(10**(-4) * abs(np.sin(tf))))), 5))], \\\n",
    "     'scd': [str(round(-1*math.log10(abs(y[-1]-np.sin(tf))/abs(np.sin(tf))), 5))],\\\n",
    "     'steps': [sum(output['mused'])],\\\n",
    "     'feval': [sum(output['nfe'])],\\\n",
    "     'nJac': [sum(output['nje'])],\\\n",
    "     'CPU': [str(round(toc-tic, 5))]}\n",
    "\n",
    "\n",
    "for key in d:\n",
    "    print(\"{:<8}\".format(key), end=\"| \")\n",
    "\n",
    "print(\"-\"*8*(len(d)+2))\n",
    "    \n",
    "for key in d:\n",
    "    print(\"{:<8}\".format(d[key][0]), end=\"| \")\n",
    "\n"
   ]
  },
  {
   "cell_type": "code",
   "execution_count": 91,
   "metadata": {},
   "outputs": [
    {
     "data": {
      "image/png": "[encoded data removed]",
      "text/plain": [
       "<Figure size 432x288 with 1 Axes>"
      ]
     },
     "metadata": {
      "needs_background": "light"
     },
     "output_type": "display_data"
    }
   ],
   "source": [
    "def vanderpol(y,t):\n",
    "    dydt1 = y[1]; \n",
    "    dydt2 = ((1-(y[0]**2))*y[1] - y[0])/(10**(-3)); \n",
    "\n",
    "    dydt = [dydt1 , dydt2]; \n",
    "    return dydt\n",
    "\n",
    "t0 = 0\n",
    "tf = 2\n",
    "\n",
    "h1 = 10**(-4)\n",
    "\n",
    "num = int((tf-t0)/h1)\n",
    "\n",
    "t = np.linspace(0, tf, num)\n",
    "\n",
    "tic = time.perf_counter()\n",
    "[y, output] = odeint(vanderpol,[2,0],t, h0 = 10**(-7), rtol = 10**(-4), atol = 10**(-7), full_output = True)\n",
    "toc = time.perf_counter()\n",
    "\n",
    "plt.plot(t,y[:,0])\n",
    "plt.xlabel('time')\n",
    "plt.ylabel(\"y(t)\")\n",
    "plt.savefig('assign8_bonus.png')"
   ]
  },
  {
   "cell_type": "code",
   "execution_count": 93,
   "metadata": {},
   "outputs": [
    {
     "name": "stdout",
     "output_type": "stream",
     "text": [
      "1.4810541242767217\n",
      "Solver  | rtol    | atol    | h0      | mescd   | scd     | steps   | feval   | nJac    | CPU     | ------------------------------------------------------------------------------------------------\n",
      "odeint  | 0.0001  | 1e-07   | 1e-07   | -2.51895| 1.4808  | 39676   | 9251551 | 459357  | 0.01826 | "
     ]
    }
   ],
   "source": [
    "ref = 0.1706167732170483 * 10\n",
    "\n",
    "mescd = -1*math.log10(abs((abs(y[-1][0]-ref)/(((10**(-7))/(10**(-4)))+abs(ref)))))\n",
    "\n",
    "d = {'Solver': ['odeint'], 'rtol': [10**(-4)], 'atol': [10**(-7)], 'h0': [10**(-7)], \\\n",
    "     'mescd': [str(round(-1*math.log10(abs(y[-1][0]-ref)/((10**(-7))+(10**(-4) * abs(ref)))), 5))], \\\n",
    "     'scd': [str(round(-1*math.log10(abs(y[-1][0]-ref)/abs(ref)), 5))],\\\n",
    "     'steps': [sum(output['mused'])],\\\n",
    "     'feval': [sum(output['nfe'])],\\\n",
    "     'nJac': [sum(output['nje'])],\\\n",
    "     'CPU': [str(round(toc-tic, 5))]}\n",
    "\n",
    "for key in d:\n",
    "    print(\"{:<8}\".format(key), end=\"| \")\n",
    "\n",
    "print(\"-\"*8*(len(d)+2))\n",
    "    \n",
    "for key in d:\n",
    "    print(\"{:<8}\".format(d[key][0]), end=\"| \")\n"
   ]
  },
  {
   "cell_type": "code",
   "execution_count": 132,
   "metadata": {},
   "outputs": [
    {
     "name": "stdout",
     "output_type": "stream",
     "text": [
      "Solver  | rtol    | atol    | h0      | mescd   | scd     | steps   | feval   | nJac    | CPU     | "
     ]
    }
   ],
   "source": [
    "for key in d:\n",
    "    print(\"{:<8}\".format(key), end=\"| \")"
   ]
  },
  {
   "cell_type": "code",
   "execution_count": null,
   "metadata": {},
   "outputs": [],
   "source": []
  }
 ],
 "metadata": {
  "kernelspec": {
   "display_name": "Python 3",
   "language": "python",
   "name": "python3"
  },
  "language_info": {
   "codemirror_mode": {
    "name": "ipython",
    "version": 3
   },
   "file_extension": ".py",
   "mimetype": "text/x-python",
   "name": "python",
   "nbconvert_exporter": "python",
   "pygments_lexer": "ipython3",
   "version": "3.7.9"
  }
 },
 "nbformat": 4,
 "nbformat_minor": 4
}
